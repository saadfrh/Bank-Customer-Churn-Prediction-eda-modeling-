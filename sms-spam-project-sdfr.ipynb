{
 "cells": [
  {
   "cell_type": "code",
   "execution_count": 1,
   "id": "21701b2a",
   "metadata": {
    "_cell_guid": "b1076dfc-b9ad-4769-8c92-a6c4dae69d19",
    "_uuid": "8f2839f25d086af736a60e9eeb907d3b93b6e0e5",
    "execution": {
     "iopub.execute_input": "2023-12-18T09:56:50.026057Z",
     "iopub.status.busy": "2023-12-18T09:56:50.025687Z",
     "iopub.status.idle": "2023-12-18T09:56:52.680750Z",
     "shell.execute_reply": "2023-12-18T09:56:52.679678Z"
    },
    "papermill": {
     "duration": 2.664056,
     "end_time": "2023-12-18T09:56:52.683945",
     "exception": false,
     "start_time": "2023-12-18T09:56:50.019889",
     "status": "completed"
    },
    "tags": []
   },
   "outputs": [
    {
     "name": "stdout",
     "output_type": "stream",
     "text": [
      "Dataset size: 5572\n",
      "Number of features: 5\n"
     ]
    },
    {
     "data": {
      "text/html": [
       "<div>\n",
       "<style scoped>\n",
       "    .dataframe tbody tr th:only-of-type {\n",
       "        vertical-align: middle;\n",
       "    }\n",
       "\n",
       "    .dataframe tbody tr th {\n",
       "        vertical-align: top;\n",
       "    }\n",
       "\n",
       "    .dataframe thead th {\n",
       "        text-align: right;\n",
       "    }\n",
       "</style>\n",
       "<table border=\"1\" class=\"dataframe\">\n",
       "  <thead>\n",
       "    <tr style=\"text-align: right;\">\n",
       "      <th></th>\n",
       "      <th>messages</th>\n",
       "      <th>Label</th>\n",
       "    </tr>\n",
       "  </thead>\n",
       "  <tbody>\n",
       "    <tr>\n",
       "      <th>0</th>\n",
       "      <td>Go until jurong point, crazy.. Available only ...</td>\n",
       "      <td>ham</td>\n",
       "    </tr>\n",
       "    <tr>\n",
       "      <th>1</th>\n",
       "      <td>Ok lar... Joking wif u oni...</td>\n",
       "      <td>ham</td>\n",
       "    </tr>\n",
       "    <tr>\n",
       "      <th>2</th>\n",
       "      <td>Free entry in 2 a wkly comp to win FA Cup fina...</td>\n",
       "      <td>spam</td>\n",
       "    </tr>\n",
       "    <tr>\n",
       "      <th>3</th>\n",
       "      <td>U dun say so early hor... U c already then say...</td>\n",
       "      <td>ham</td>\n",
       "    </tr>\n",
       "    <tr>\n",
       "      <th>4</th>\n",
       "      <td>Nah I don't think he goes to usf, he lives aro...</td>\n",
       "      <td>ham</td>\n",
       "    </tr>\n",
       "    <tr>\n",
       "      <th>...</th>\n",
       "      <td>...</td>\n",
       "      <td>...</td>\n",
       "    </tr>\n",
       "    <tr>\n",
       "      <th>5567</th>\n",
       "      <td>This is the 2nd time we have tried 2 contact u...</td>\n",
       "      <td>spam</td>\n",
       "    </tr>\n",
       "    <tr>\n",
       "      <th>5568</th>\n",
       "      <td>Will Ì_ b going to esplanade fr home?</td>\n",
       "      <td>ham</td>\n",
       "    </tr>\n",
       "    <tr>\n",
       "      <th>5569</th>\n",
       "      <td>Pity, * was in mood for that. So...any other s...</td>\n",
       "      <td>ham</td>\n",
       "    </tr>\n",
       "    <tr>\n",
       "      <th>5570</th>\n",
       "      <td>The guy did some bitching but I acted like i'd...</td>\n",
       "      <td>ham</td>\n",
       "    </tr>\n",
       "    <tr>\n",
       "      <th>5571</th>\n",
       "      <td>Rofl. Its true to its name</td>\n",
       "      <td>ham</td>\n",
       "    </tr>\n",
       "  </tbody>\n",
       "</table>\n",
       "<p>5572 rows × 2 columns</p>\n",
       "</div>"
      ],
      "text/plain": [
       "                                               messages Label\n",
       "0     Go until jurong point, crazy.. Available only ...   ham\n",
       "1                         Ok lar... Joking wif u oni...   ham\n",
       "2     Free entry in 2 a wkly comp to win FA Cup fina...  spam\n",
       "3     U dun say so early hor... U c already then say...   ham\n",
       "4     Nah I don't think he goes to usf, he lives aro...   ham\n",
       "...                                                 ...   ...\n",
       "5567  This is the 2nd time we have tried 2 contact u...  spam\n",
       "5568              Will Ì_ b going to esplanade fr home?   ham\n",
       "5569  Pity, * was in mood for that. So...any other s...   ham\n",
       "5570  The guy did some bitching but I acted like i'd...   ham\n",
       "5571                         Rofl. Its true to its name   ham\n",
       "\n",
       "[5572 rows x 2 columns]"
      ]
     },
     "execution_count": 1,
     "metadata": {},
     "output_type": "execute_result"
    }
   ],
   "source": [
    "import pandas as pd\n",
    "import nltk\n",
    "import numpy as np\n",
    "import re\n",
    "\n",
    "from nltk.corpus import stopwords\n",
    "\n",
    "\n",
    "df = pd.read_csv(\"/kaggle/input/sms-spam-collection-dataset/spam.csv\",encoding='latin-1')\n",
    "df.head(5900)\n",
    "\n",
    "\n",
    "dataset_size = len(df)  \n",
    "num_features = len(df.columns)  \n",
    "\n",
    "print(\"Dataset size:\", dataset_size)\n",
    "print(\"Number of features:\", num_features)\n",
    "\n",
    "df = df[['v2','v1']]\n",
    "df.rename(columns={'v2':'messages','v1':'Label'},inplace=True)\n",
    "df.head(5572)"
   ]
  },
  {
   "cell_type": "markdown",
   "id": "821fa7b0",
   "metadata": {
    "papermill": {
     "duration": 0.003792,
     "end_time": "2023-12-18T09:56:52.691935",
     "exception": false,
     "start_time": "2023-12-18T09:56:52.688143",
     "status": "completed"
    },
    "tags": []
   },
   "source": [
    "preprocessing the dataset\n"
   ]
  },
  {
   "cell_type": "code",
   "execution_count": 2,
   "id": "2fd6b2ae",
   "metadata": {
    "execution": {
     "iopub.execute_input": "2023-12-18T09:56:52.702056Z",
     "iopub.status.busy": "2023-12-18T09:56:52.701337Z",
     "iopub.status.idle": "2023-12-18T09:56:52.708851Z",
     "shell.execute_reply": "2023-12-18T09:56:52.708147Z"
    },
    "papermill": {
     "duration": 0.014865,
     "end_time": "2023-12-18T09:56:52.710753",
     "exception": false,
     "start_time": "2023-12-18T09:56:52.695888",
     "status": "completed"
    },
    "tags": []
   },
   "outputs": [
    {
     "data": {
      "text/plain": [
       "messages    0\n",
       "Label       0\n",
       "dtype: int64"
      ]
     },
     "execution_count": 2,
     "metadata": {},
     "output_type": "execute_result"
    }
   ],
   "source": [
    "df.isnull().sum()"
   ]
  },
  {
   "cell_type": "code",
   "execution_count": 3,
   "id": "9a18d9be",
   "metadata": {
    "execution": {
     "iopub.execute_input": "2023-12-18T09:56:52.720696Z",
     "iopub.status.busy": "2023-12-18T09:56:52.720165Z",
     "iopub.status.idle": "2023-12-18T09:56:52.742302Z",
     "shell.execute_reply": "2023-12-18T09:56:52.741323Z"
    },
    "papermill": {
     "duration": 0.029897,
     "end_time": "2023-12-18T09:56:52.744824",
     "exception": false,
     "start_time": "2023-12-18T09:56:52.714927",
     "status": "completed"
    },
    "tags": []
   },
   "outputs": [],
   "source": [
    "Stopwords = set(stopwords.words('english'))\n",
    "def clean_text(text):\n",
    "    text = text.lower()\n",
    "    text = re.sub(r'[^0-9a-zA-Z]',' ',text)\n",
    "    #remove extra spaces\n",
    "    text = re.sub(r'\\s+',' ',text)\n",
    "    #remove stopwords\n",
    "    text = \"\".join (word for word in text.split() if word not in Stopwords)\n",
    "    return text\n",
    "    "
   ]
  },
  {
   "cell_type": "code",
   "execution_count": 4,
   "id": "fc2d3b7c",
   "metadata": {
    "execution": {
     "iopub.execute_input": "2023-12-18T09:56:52.755452Z",
     "iopub.status.busy": "2023-12-18T09:56:52.754650Z",
     "iopub.status.idle": "2023-12-18T09:56:52.869089Z",
     "shell.execute_reply": "2023-12-18T09:56:52.868085Z"
    },
    "papermill": {
     "duration": 0.122038,
     "end_time": "2023-12-18T09:56:52.871324",
     "exception": false,
     "start_time": "2023-12-18T09:56:52.749286",
     "status": "completed"
    },
    "tags": []
   },
   "outputs": [
    {
     "data": {
      "text/html": [
       "<div>\n",
       "<style scoped>\n",
       "    .dataframe tbody tr th:only-of-type {\n",
       "        vertical-align: middle;\n",
       "    }\n",
       "\n",
       "    .dataframe tbody tr th {\n",
       "        vertical-align: top;\n",
       "    }\n",
       "\n",
       "    .dataframe thead th {\n",
       "        text-align: right;\n",
       "    }\n",
       "</style>\n",
       "<table border=\"1\" class=\"dataframe\">\n",
       "  <thead>\n",
       "    <tr style=\"text-align: right;\">\n",
       "      <th></th>\n",
       "      <th>messages</th>\n",
       "      <th>Label</th>\n",
       "      <th>clean_text</th>\n",
       "    </tr>\n",
       "  </thead>\n",
       "  <tbody>\n",
       "    <tr>\n",
       "      <th>0</th>\n",
       "      <td>Go until jurong point, crazy.. Available only ...</td>\n",
       "      <td>ham</td>\n",
       "      <td>gojurongpointcrazyavailablebugisngreatworldlae...</td>\n",
       "    </tr>\n",
       "    <tr>\n",
       "      <th>1</th>\n",
       "      <td>Ok lar... Joking wif u oni...</td>\n",
       "      <td>ham</td>\n",
       "      <td>oklarjokingwifuoni</td>\n",
       "    </tr>\n",
       "    <tr>\n",
       "      <th>2</th>\n",
       "      <td>Free entry in 2 a wkly comp to win FA Cup fina...</td>\n",
       "      <td>spam</td>\n",
       "      <td>freeentry2wklycompwinfacupfinaltkts21stmay2005...</td>\n",
       "    </tr>\n",
       "    <tr>\n",
       "      <th>3</th>\n",
       "      <td>U dun say so early hor... U c already then say...</td>\n",
       "      <td>ham</td>\n",
       "      <td>udunsayearlyhorucalreadysay</td>\n",
       "    </tr>\n",
       "    <tr>\n",
       "      <th>4</th>\n",
       "      <td>Nah I don't think he goes to usf, he lives aro...</td>\n",
       "      <td>ham</td>\n",
       "      <td>nahthinkgoesusflivesaroundthough</td>\n",
       "    </tr>\n",
       "  </tbody>\n",
       "</table>\n",
       "</div>"
      ],
      "text/plain": [
       "                                            messages Label  \\\n",
       "0  Go until jurong point, crazy.. Available only ...   ham   \n",
       "1                      Ok lar... Joking wif u oni...   ham   \n",
       "2  Free entry in 2 a wkly comp to win FA Cup fina...  spam   \n",
       "3  U dun say so early hor... U c already then say...   ham   \n",
       "4  Nah I don't think he goes to usf, he lives aro...   ham   \n",
       "\n",
       "                                          clean_text  \n",
       "0  gojurongpointcrazyavailablebugisngreatworldlae...  \n",
       "1                                 oklarjokingwifuoni  \n",
       "2  freeentry2wklycompwinfacupfinaltkts21stmay2005...  \n",
       "3                        udunsayearlyhorucalreadysay  \n",
       "4                   nahthinkgoesusflivesaroundthough  "
      ]
     },
     "execution_count": 4,
     "metadata": {},
     "output_type": "execute_result"
    }
   ],
   "source": [
    "df['clean_text']= df['messages'].apply(clean_text)\n",
    "df.head()"
   ]
  },
  {
   "cell_type": "markdown",
   "id": "78cb113a",
   "metadata": {
    "papermill": {
     "duration": 0.004082,
     "end_time": "2023-12-18T09:56:52.879946",
     "exception": false,
     "start_time": "2023-12-18T09:56:52.875864",
     "status": "completed"
    },
    "tags": []
   },
   "source": [
    "input split"
   ]
  },
  {
   "cell_type": "code",
   "execution_count": 5,
   "id": "6f8fbccc",
   "metadata": {
    "execution": {
     "iopub.execute_input": "2023-12-18T09:56:52.890345Z",
     "iopub.status.busy": "2023-12-18T09:56:52.889654Z",
     "iopub.status.idle": "2023-12-18T09:56:52.894305Z",
     "shell.execute_reply": "2023-12-18T09:56:52.893344Z"
    },
    "papermill": {
     "duration": 0.012151,
     "end_time": "2023-12-18T09:56:52.896340",
     "exception": false,
     "start_time": "2023-12-18T09:56:52.884189",
     "status": "completed"
    },
    "tags": []
   },
   "outputs": [],
   "source": [
    "X = df['clean_text']\n",
    "y = df['Label']"
   ]
  },
  {
   "cell_type": "markdown",
   "id": "d4f63632",
   "metadata": {
    "papermill": {
     "duration": 0.004122,
     "end_time": "2023-12-18T09:56:52.904988",
     "exception": false,
     "start_time": "2023-12-18T09:56:52.900866",
     "status": "completed"
    },
    "tags": []
   },
   "source": [
    "model training"
   ]
  },
  {
   "cell_type": "code",
   "execution_count": 6,
   "id": "b3d2b316",
   "metadata": {
    "execution": {
     "iopub.execute_input": "2023-12-18T09:56:52.915069Z",
     "iopub.status.busy": "2023-12-18T09:56:52.914714Z",
     "iopub.status.idle": "2023-12-18T09:56:52.924091Z",
     "shell.execute_reply": "2023-12-18T09:56:52.923244Z"
    },
    "papermill": {
     "duration": 0.016985,
     "end_time": "2023-12-18T09:56:52.926219",
     "exception": false,
     "start_time": "2023-12-18T09:56:52.909234",
     "status": "completed"
    },
    "tags": []
   },
   "outputs": [],
   "source": [
    "from sklearn.pipeline import Pipeline\n",
    "from sklearn.model_selection import train_test_split, cross_val_score\n",
    "from sklearn.metrics import classification_report\n",
    "from sklearn.feature_extraction.text import CountVectorizer, TfidfVectorizer, TfidfTransformer\n",
    "\n",
    "def classify(model, X, y):\n",
    "    # train test split\n",
    "    x_train, x_test, y_train, y_test = train_test_split(X, y, test_size=0.25, random_state=42, shuffle=True, stratify=y)\n",
    "    # model training\n",
    "    pipeline_model = Pipeline([('vect', CountVectorizer()),\n",
    "                               ('tfidf',TfidfTransformer()),\n",
    "                               ('clf', model)])\n",
    "    pipeline_model.fit(x_train, y_train)\n",
    "    \n",
    "    print('Accuracy:', pipeline_model.score(x_test, y_test)*100)\n",
    "    \n",
    "\n",
    "    y_pred = pipeline_model.predict(x_test)\n",
    "    print(classification_report(y_test, y_pred))"
   ]
  },
  {
   "cell_type": "code",
   "execution_count": 7,
   "id": "35a18892",
   "metadata": {
    "execution": {
     "iopub.execute_input": "2023-12-18T09:56:52.936576Z",
     "iopub.status.busy": "2023-12-18T09:56:52.936203Z",
     "iopub.status.idle": "2023-12-18T09:56:53.085772Z",
     "shell.execute_reply": "2023-12-18T09:56:53.084323Z"
    },
    "papermill": {
     "duration": 0.157239,
     "end_time": "2023-12-18T09:56:53.088087",
     "exception": false,
     "start_time": "2023-12-18T09:56:52.930848",
     "status": "completed"
    },
    "tags": []
   },
   "outputs": [
    {
     "name": "stdout",
     "output_type": "stream",
     "text": [
      "Accuracy: 86.57573582196699\n",
      "              precision    recall  f1-score   support\n",
      "\n",
      "         ham       0.87      1.00      0.93      1206\n",
      "        spam       0.00      0.00      0.00       187\n",
      "\n",
      "    accuracy                           0.87      1393\n",
      "   macro avg       0.43      0.50      0.46      1393\n",
      "weighted avg       0.75      0.87      0.80      1393\n",
      "\n"
     ]
    },
    {
     "name": "stderr",
     "output_type": "stream",
     "text": [
      "/opt/conda/lib/python3.10/site-packages/sklearn/metrics/_classification.py:1344: UndefinedMetricWarning: Precision and F-score are ill-defined and being set to 0.0 in labels with no predicted samples. Use `zero_division` parameter to control this behavior.\n",
      "  _warn_prf(average, modifier, msg_start, len(result))\n",
      "/opt/conda/lib/python3.10/site-packages/sklearn/metrics/_classification.py:1344: UndefinedMetricWarning: Precision and F-score are ill-defined and being set to 0.0 in labels with no predicted samples. Use `zero_division` parameter to control this behavior.\n",
      "  _warn_prf(average, modifier, msg_start, len(result))\n",
      "/opt/conda/lib/python3.10/site-packages/sklearn/metrics/_classification.py:1344: UndefinedMetricWarning: Precision and F-score are ill-defined and being set to 0.0 in labels with no predicted samples. Use `zero_division` parameter to control this behavior.\n",
      "  _warn_prf(average, modifier, msg_start, len(result))\n"
     ]
    }
   ],
   "source": [
    "from sklearn.linear_model import LogisticRegression\n",
    "model = LogisticRegression()\n",
    "classify(model, X, y)"
   ]
  },
  {
   "cell_type": "code",
   "execution_count": 8,
   "id": "397023ea",
   "metadata": {
    "execution": {
     "iopub.execute_input": "2023-12-18T09:56:53.098973Z",
     "iopub.status.busy": "2023-12-18T09:56:53.098586Z",
     "iopub.status.idle": "2023-12-18T09:56:53.205990Z",
     "shell.execute_reply": "2023-12-18T09:56:53.204718Z"
    },
    "papermill": {
     "duration": 0.115303,
     "end_time": "2023-12-18T09:56:53.208208",
     "exception": false,
     "start_time": "2023-12-18T09:56:53.092905",
     "status": "completed"
    },
    "tags": []
   },
   "outputs": [
    {
     "name": "stdout",
     "output_type": "stream",
     "text": [
      "Accuracy: 86.71931083991386\n",
      "              precision    recall  f1-score   support\n",
      "\n",
      "         ham       0.87      1.00      0.93      1206\n",
      "        spam       1.00      0.01      0.02       187\n",
      "\n",
      "    accuracy                           0.87      1393\n",
      "   macro avg       0.93      0.51      0.47      1393\n",
      "weighted avg       0.88      0.87      0.81      1393\n",
      "\n"
     ]
    }
   ],
   "source": [
    "from sklearn.naive_bayes import MultinomialNB\n",
    "model = MultinomialNB()\n",
    "classify(model, X, y)"
   ]
  },
  {
   "cell_type": "code",
   "execution_count": 9,
   "id": "75fa5f60",
   "metadata": {
    "execution": {
     "iopub.execute_input": "2023-12-18T09:56:53.220820Z",
     "iopub.status.busy": "2023-12-18T09:56:53.218851Z",
     "iopub.status.idle": "2023-12-18T09:56:54.084852Z",
     "shell.execute_reply": "2023-12-18T09:56:54.083394Z"
    },
    "papermill": {
     "duration": 0.874564,
     "end_time": "2023-12-18T09:56:54.087586",
     "exception": false,
     "start_time": "2023-12-18T09:56:53.213022",
     "status": "completed"
    },
    "tags": []
   },
   "outputs": [
    {
     "name": "stdout",
     "output_type": "stream",
     "text": [
      "Accuracy: 89.44723618090453\n",
      "              precision    recall  f1-score   support\n",
      "\n",
      "         ham       0.89      1.00      0.94      1206\n",
      "        spam       1.00      0.21      0.35       187\n",
      "\n",
      "    accuracy                           0.89      1393\n",
      "   macro avg       0.95      0.61      0.65      1393\n",
      "weighted avg       0.91      0.89      0.86      1393\n",
      "\n"
     ]
    }
   ],
   "source": [
    "from sklearn.svm import SVC\n",
    "model = SVC(C=3)\n",
    "classify(model, X, y)"
   ]
  },
  {
   "cell_type": "code",
   "execution_count": 10,
   "id": "8c1b587e",
   "metadata": {
    "execution": {
     "iopub.execute_input": "2023-12-18T09:56:54.101022Z",
     "iopub.status.busy": "2023-12-18T09:56:54.098997Z",
     "iopub.status.idle": "2023-12-18T09:56:57.660949Z",
     "shell.execute_reply": "2023-12-18T09:56:57.659768Z"
    },
    "papermill": {
     "duration": 3.569947,
     "end_time": "2023-12-18T09:56:57.663230",
     "exception": false,
     "start_time": "2023-12-18T09:56:54.093283",
     "status": "completed"
    },
    "tags": []
   },
   "outputs": [
    {
     "name": "stdout",
     "output_type": "stream",
     "text": [
      "Accuracy: 89.44723618090453\n",
      "              precision    recall  f1-score   support\n",
      "\n",
      "         ham       0.89      1.00      0.94      1206\n",
      "        spam       1.00      0.21      0.35       187\n",
      "\n",
      "    accuracy                           0.89      1393\n",
      "   macro avg       0.95      0.61      0.65      1393\n",
      "weighted avg       0.91      0.89      0.86      1393\n",
      "\n"
     ]
    }
   ],
   "source": [
    "\n",
    "from sklearn.ensemble import RandomForestClassifier\n",
    "model = RandomForestClassifier()\n",
    "classify(model, X, y)"
   ]
  },
  {
   "cell_type": "code",
   "execution_count": 11,
   "id": "e11c2d96",
   "metadata": {
    "execution": {
     "iopub.execute_input": "2023-12-18T09:56:57.675450Z",
     "iopub.status.busy": "2023-12-18T09:56:57.674789Z",
     "iopub.status.idle": "2023-12-18T09:57:03.071344Z",
     "shell.execute_reply": "2023-12-18T09:57:03.070200Z"
    },
    "papermill": {
     "duration": 5.405634,
     "end_time": "2023-12-18T09:57:03.074122",
     "exception": false,
     "start_time": "2023-12-18T09:56:57.668488",
     "status": "completed"
    },
    "tags": []
   },
   "outputs": [
    {
     "name": "stdout",
     "output_type": "stream",
     "text": [
      "Accuracy: 89.44723618090453\n",
      "              precision    recall  f1-score   support\n",
      "\n",
      "         ham       0.89      1.00      0.94      1206\n",
      "        spam       1.00      0.21      0.35       187\n",
      "\n",
      "    accuracy                           0.89      1393\n",
      "   macro avg       0.95      0.61      0.65      1393\n",
      "weighted avg       0.91      0.89      0.86      1393\n",
      "\n"
     ]
    }
   ],
   "source": [
    "from sklearn.neural_network import MLPClassifier\n",
    "model = MLPClassifier(hidden_layer_sizes=(20,), max_iter=200, random_state=42)\n",
    "classify(model, X, y)"
   ]
  }
 ],
 "metadata": {
  "kaggle": {
   "accelerator": "none",
   "dataSources": [
    {
     "datasetId": 483,
     "sourceId": 982,
     "sourceType": "datasetVersion"
    }
   ],
   "dockerImageVersionId": 30587,
   "isGpuEnabled": false,
   "isInternetEnabled": true,
   "language": "python",
   "sourceType": "notebook"
  },
  "kernelspec": {
   "display_name": "Python 3",
   "language": "python",
   "name": "python3"
  },
  "language_info": {
   "codemirror_mode": {
    "name": "ipython",
    "version": 3
   },
   "file_extension": ".py",
   "mimetype": "text/x-python",
   "name": "python",
   "nbconvert_exporter": "python",
   "pygments_lexer": "ipython3",
   "version": "3.10.12"
  },
  "papermill": {
   "default_parameters": {},
   "duration": 16.917017,
   "end_time": "2023-12-18T09:57:03.715695",
   "environment_variables": {},
   "exception": null,
   "input_path": "__notebook__.ipynb",
   "output_path": "__notebook__.ipynb",
   "parameters": {},
   "start_time": "2023-12-18T09:56:46.798678",
   "version": "2.4.0"
  }
 },
 "nbformat": 4,
 "nbformat_minor": 5
}
